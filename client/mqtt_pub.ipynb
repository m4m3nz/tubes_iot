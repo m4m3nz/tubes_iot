{
 "cells": [
  {
   "cell_type": "code",
   "execution_count": null,
   "metadata": {},
   "outputs": [],
   "source": [
    "import paho.mqtt.client as mqtt\n",
    "client = mqtt.Client()\n",
    "client.connect(\"teknik-fisika.or.id\" ,1883, 60)\n",
    "\n",
    "while True:\n",
    "    payload = input(\"Pesan :\")\n",
    "    client.publish(\"IoT_Command\", payload)\n",
    "\n",
    "client.loop_forever()"
   ]
  }
 ],
 "metadata": {
  "kernelspec": {
   "display_name": "Python 3",
   "language": "python",
   "name": "python3"
  },
  "language_info": {
   "codemirror_mode": {
    "name": "ipython",
    "version": 3
   },
   "file_extension": ".py",
   "mimetype": "text/x-python",
   "name": "python",
   "nbconvert_exporter": "python",
   "pygments_lexer": "ipython3",
   "version": "3.8.5"
  }
 },
 "nbformat": 4,
 "nbformat_minor": 4
}
